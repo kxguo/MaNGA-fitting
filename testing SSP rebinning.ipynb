{
 "cells": [
  {
   "cell_type": "code",
   "execution_count": 1,
   "metadata": {
    "collapsed": true
   },
   "outputs": [],
   "source": [
    "import astropy.io.fits as fits\n",
    "import numpy as np\n",
    "from scipy.ndimage import zoom\n",
    "import manga_tools as m\n",
    "import MaNGA_stars_gas_fit as sgf"
   ]
  },
  {
   "cell_type": "code",
   "execution_count": 11,
   "metadata": {
    "collapsed": true
   },
   "outputs": [],
   "source": [
    "SSPs = fits.open('conroy_SSPs.fits')\n",
    "ifu = fits.open('manga-7443-12701-LOGCUBE.fits.gz')"
   ]
  },
  {
   "cell_type": "code",
   "execution_count": 21,
   "metadata": {
    "collapsed": false
   },
   "outputs": [],
   "source": [
    "L_ifu = ifu['WAVE'].data\n",
    "logL_ifu = np.log(L_ifu)\n",
    "\n",
    "logL_ssp = SSPs[0].header['CRVAL1'] + np.linspace(0., SSPs[0].header['CDELT1'] * (SSPs[0].header['NAXIS1'] - 1), \n",
    "                                                  SSPs[0].header['NAXIS1'])\n",
    "dlogL_ssp = SSPs[0].header['CDELT1']\n",
    "logL_ssp_edges = np.array([logL_ssp - 0.5*dlogL_ssp, logL_ssp + 0.5*dlogL_ssp]).T"
   ]
  },
  {
   "cell_type": "code",
   "execution_count": 22,
   "metadata": {
    "collapsed": false
   },
   "outputs": [
    {
     "data": {
      "text/plain": [
       "array([[ 7.31319539,  7.31324539],\n",
       "       [ 7.31324539,  7.31329539],\n",
       "       [ 7.31329539,  7.31334539],\n",
       "       ..., \n",
       "       [ 9.30547557,  9.30552557],\n",
       "       [ 9.30552557,  9.30557557],\n",
       "       [ 9.30557557,  9.30562557]])"
      ]
     },
     "execution_count": 22,
     "metadata": {},
     "output_type": "execute_result"
    }
   ],
   "source": [
    "logL_ssp_edges"
   ]
  },
  {
   "cell_type": "code",
   "execution_count": null,
   "metadata": {
    "collapsed": true
   },
   "outputs": [],
   "source": []
  }
 ],
 "metadata": {
  "kernelspec": {
   "display_name": "Python 2",
   "language": "python",
   "name": "python2"
  },
  "language_info": {
   "codemirror_mode": {
    "name": "ipython",
    "version": 2
   },
   "file_extension": ".py",
   "mimetype": "text/x-python",
   "name": "python",
   "nbconvert_exporter": "python",
   "pygments_lexer": "ipython2",
   "version": "2.7.10"
  }
 },
 "nbformat": 4,
 "nbformat_minor": 0
}
