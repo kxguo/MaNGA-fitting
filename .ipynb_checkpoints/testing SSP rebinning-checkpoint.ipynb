{
 "cells": [
  {
   "cell_type": "code",
   "execution_count": 1,
   "metadata": {
    "collapsed": true
   },
   "outputs": [],
   "source": [
    "import astropy.io.fits as fits\n",
    "import numpy as np\n",
    "from scipy.ndimage import zoom\n",
    "import manga_tools as m\n",
    "import MaNGA_stars_gas_fit as sgf"
   ]
  },
  {
   "cell_type": "code",
   "execution_count": 11,
   "metadata": {
    "collapsed": true
   },
   "outputs": [],
   "source": [
    "SSPs = fits.open('conroy_SSPs.fits')\n",
    "ifu = fits.open('manga-7443-12701-LOGCUBE.fits.gz')"
   ]
  },
  {
   "cell_type": "code",
   "execution_count": 18,
   "metadata": {
    "collapsed": false
   },
   "outputs": [],
   "source": [
    "L_ifu = ifu['WAVE'].data\n",
    "logL_ifu = np.log(L_ifu)\n",
    "\n",
    "logL_ssp = SSPs[0].header['CRVAL1'] + np.linspace(0., SSPs[0].header['CDELT1'] * (SSPs[0].header['NAXIS1'] - 1), \n",
    "                                                  SSPs[0].header['NAXIS1'])"
   ]
  },
  {
   "cell_type": "code",
   "execution_count": 19,
   "metadata": {
    "collapsed": false
   },
   "outputs": [
    {
     "data": {
      "text/plain": [
       "SIMPLE  =                    T / conforms to FITS standard                      \n",
       "BITPIX  =                  -64 / array data type                                \n",
       "NAXIS   =                    3 / number of array dimensions                     \n",
       "NAXIS1  =                39848                                                  \n",
       "NAXIS2  =                   16                                                  \n",
       "NAXIS3  =                   93                                                  \n",
       "EXTEND  =                    T                                                  \n",
       "CDELT3  =   0.1151292546497023                                                  \n",
       "CDELT1  = 5.00007574377717E-05                                                  \n",
       "BUNIT   = 'erg / (Angstrom s solMass)'                                          \n",
       "CRVAL2  =               -1.279                                                  \n",
       "CRVAL3  =    -8.05904782547916                                                  \n",
       "CRVAL1  =    7.313220387090301                                                  \n",
       "CTYPE3  = 'log age/Gyr'                                                         \n",
       "CTYPE2  = 'log Z/Zsol'                                                          \n",
       "CTYPE1  = 'log lambda/AA'                                                       \n",
       "CDELT2  =  0.09846666666666665                                                  "
      ]
     },
     "execution_count": 19,
     "metadata": {},
     "output_type": "execute_result"
    }
   ],
   "source": [
    "SSPs[0].header"
   ]
  },
  {
   "cell_type": "code",
   "execution_count": null,
   "metadata": {
    "collapsed": true
   },
   "outputs": [],
   "source": []
  }
 ],
 "metadata": {
  "kernelspec": {
   "display_name": "Python 2",
   "language": "python",
   "name": "python2"
  },
  "language_info": {
   "codemirror_mode": {
    "name": "ipython",
    "version": 2
   },
   "file_extension": ".py",
   "mimetype": "text/x-python",
   "name": "python",
   "nbconvert_exporter": "python",
   "pygments_lexer": "ipython2",
   "version": "2.7.10"
  }
 },
 "nbformat": 4,
 "nbformat_minor": 0
}
